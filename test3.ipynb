import numpy as np

x=100
y=10
x*y
